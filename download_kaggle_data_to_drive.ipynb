{
  "nbformat": 4,
  "nbformat_minor": 0,
  "metadata": {
    "colab": {
      "name": "download-kaggle-data-to-drive.ipynb",
      "provenance": [],
      "collapsed_sections": [],
      "mount_file_id": "1HoAp3fgi9vi2JRgQiYIFXpQgsUoSg9Bt",
      "authorship_tag": "ABX9TyPzuvnEryirLcOdrFke5Xmr",
      "include_colab_link": true
    },
    "kernelspec": {
      "name": "python3",
      "display_name": "Python 3"
    },
    "language_info": {
      "name": "python"
    }
  },
  "cells": [
    {
      "cell_type": "markdown",
      "metadata": {
        "id": "view-in-github",
        "colab_type": "text"
      },
      "source": [
        "<a href=\"https://colab.research.google.com/github/rinogrego/bone-age-assessment/blob/main/download_kaggle_data_to_drive.ipynb\" target=\"_parent\"><img src=\"https://colab.research.google.com/assets/colab-badge.svg\" alt=\"Open In Colab\"/></a>"
      ]
    },
    {
      "cell_type": "code",
      "execution_count": null,
      "metadata": {
        "colab": {
          "base_uri": "https://localhost:8080/"
        },
        "id": "BLXbHl7c-1er",
        "outputId": "a4053dcc-3529-4660-91f1-51e1b35649b5"
      },
      "outputs": [
        {
          "output_type": "stream",
          "name": "stdout",
          "text": [
            "Drive already mounted at /content/drive; to attempt to forcibly remount, call drive.mount(\"/content/drive\", force_remount=True).\n"
          ]
        }
      ],
      "source": [
        "from google.colab import drive\n",
        "drive.mount('/content/drive')"
      ]
    },
    {
      "cell_type": "code",
      "source": [
        "#Configuration environment\n",
        "import os\n",
        "os.environ['KAGGLE_USERNAME'] = \"<LOL>\"\n",
        "# username from the json file\n",
        "os.environ['KAGGLE_KEY'] = \"<LOL>\"\n",
        "# key from the json file"
      ],
      "metadata": {
        "id": "kCaW6fVf_GfT"
      },
      "execution_count": null,
      "outputs": []
    },
    {
      "cell_type": "code",
      "source": [
        "# If kaggle not downloading the entire data\n",
        "# source: https://www.kaggle.com/questions-and-answers/135301\n",
        "!pip install --upgrade --force-reinstall --no-deps kaggle"
      ],
      "metadata": {
        "colab": {
          "base_uri": "https://localhost:8080/"
        },
        "id": "lxXaKNJv_5CU",
        "outputId": "7e71532b-6ecf-4e53-9838-5234e7cc5205"
      },
      "execution_count": null,
      "outputs": [
        {
          "output_type": "stream",
          "name": "stdout",
          "text": [
            "Collecting kaggle\n",
            "  Downloading kaggle-1.5.12.tar.gz (58 kB)\n",
            "\u001b[?25l\r\u001b[K     |█████▋                          | 10 kB 25.4 MB/s eta 0:00:01\r\u001b[K     |███████████▏                    | 20 kB 31.5 MB/s eta 0:00:01\r\u001b[K     |████████████████▊               | 30 kB 38.7 MB/s eta 0:00:01\r\u001b[K     |██████████████████████▎         | 40 kB 23.8 MB/s eta 0:00:01\r\u001b[K     |███████████████████████████▉    | 51 kB 16.5 MB/s eta 0:00:01\r\u001b[K     |████████████████████████████████| 58 kB 4.1 MB/s \n",
            "\u001b[?25hBuilding wheels for collected packages: kaggle\n",
            "  Building wheel for kaggle (setup.py) ... \u001b[?25l\u001b[?25hdone\n",
            "  Created wheel for kaggle: filename=kaggle-1.5.12-py3-none-any.whl size=73051 sha256=88ab2d1c278520dd1c3219d8d70d4d1fbf8a08ee5950b3e7d0566fae2b258a46\n",
            "  Stored in directory: /root/.cache/pip/wheels/62/d6/58/5853130f941e75b2177d281eb7e44b4a98ed46dd155f556dc5\n",
            "Successfully built kaggle\n",
            "Installing collected packages: kaggle\n",
            "  Attempting uninstall: kaggle\n",
            "    Found existing installation: kaggle 1.5.12\n",
            "    Uninstalling kaggle-1.5.12:\n",
            "      Successfully uninstalled kaggle-1.5.12\n",
            "Successfully installed kaggle-1.5.12\n"
          ]
        }
      ]
    },
    {
      "cell_type": "code",
      "source": [
        "!kaggle competitions download bone-age-regression -p '/content/drive/MyDrive/Bone-Age-Regression/'"
      ],
      "metadata": {
        "colab": {
          "base_uri": "https://localhost:8080/"
        },
        "id": "_GA0VjGpCwL6",
        "outputId": "a08cf828-b925-401a-c42e-4408312fe759"
      },
      "execution_count": null,
      "outputs": [
        {
          "output_type": "stream",
          "name": "stdout",
          "text": [
            "Downloading bone-age-regression.zip to /content/drive/MyDrive/Bone-Age-Regression\n",
            "100% 9.12G/9.13G [02:21<00:00, 61.8MB/s]\n",
            "100% 9.13G/9.13G [02:21<00:00, 69.4MB/s]\n"
          ]
        }
      ]
    },
    {
      "cell_type": "code",
      "source": [
        "!unzip -q '/content/drive/MyDrive/Bone-Age-Regression/bone-age-regression.zip'"
      ],
      "metadata": {
        "colab": {
          "base_uri": "https://localhost:8080/"
        },
        "id": "LjqDtPKnEIdr",
        "outputId": "87d5b998-262c-4ccc-8556-0c3844f95288"
      },
      "execution_count": null,
      "outputs": [
        {
          "output_type": "stream",
          "name": "stdout",
          "text": [
            "replace sample_submission.csv? [y]es, [n]o, [A]ll, [N]one, [r]ename: y\n",
            "replace test.csv? [y]es, [n]o, [A]ll, [N]one, [r]ename: y\n",
            "replace train.csv? [y]es, [n]o, [A]ll, [N]one, [r]ename: y\n"
          ]
        }
      ]
    },
    {
      "cell_type": "code",
      "source": [
        ""
      ],
      "metadata": {
        "id": "EPSzcQQxFW0M"
      },
      "execution_count": null,
      "outputs": []
    }
  ]
}